{
 "cells": [
  {
   "cell_type": "markdown",
   "id": "afc9a3d2",
   "metadata": {},
   "source": [
    "## Analyzing NYC Public School Test Result Scores"
   ]
  },
  {
   "cell_type": "markdown",
   "id": "48b4f4da",
   "metadata": {},
   "source": [
    "#### In this school Analysis I tried to answer the following: \n",
    "1. Which schools produce the highest math scores?\n",
    "2. Who are the top 10 schools based on average results across reading, math, and writing?\n",
    "3. Which NYC borough has the largest standard deviation for SAT results?"
   ]
  },
  {
   "cell_type": "markdown",
   "id": "643dd7b2",
   "metadata": {},
   "source": [
    "## Importing library"
   ]
  },
  {
   "cell_type": "code",
   "execution_count": 1,
   "id": "b03030b1",
   "metadata": {},
   "outputs": [],
   "source": [
    "import pandas as pd"
   ]
  },
  {
   "cell_type": "markdown",
   "id": "855c66ba",
   "metadata": {},
   "source": [
    "### Reading the csv dataset"
   ]
  },
  {
   "cell_type": "code",
   "execution_count": 2,
   "id": "e141a709",
   "metadata": {},
   "outputs": [],
   "source": [
    "# Read in the data\n",
    "schools = pd.read_csv(\"schools.csv\")"
   ]
  },
  {
   "cell_type": "code",
   "execution_count": 3,
   "id": "45ad7ac4",
   "metadata": {},
   "outputs": [
    {
     "data": {
      "text/html": [
       "<div>\n",
       "<style scoped>\n",
       "    .dataframe tbody tr th:only-of-type {\n",
       "        vertical-align: middle;\n",
       "    }\n",
       "\n",
       "    .dataframe tbody tr th {\n",
       "        vertical-align: top;\n",
       "    }\n",
       "\n",
       "    .dataframe thead th {\n",
       "        text-align: right;\n",
       "    }\n",
       "</style>\n",
       "<table border=\"1\" class=\"dataframe\">\n",
       "  <thead>\n",
       "    <tr style=\"text-align: right;\">\n",
       "      <th></th>\n",
       "      <th>school_name</th>\n",
       "      <th>borough</th>\n",
       "      <th>building_code</th>\n",
       "      <th>average_math</th>\n",
       "      <th>average_reading</th>\n",
       "      <th>average_writing</th>\n",
       "      <th>percent_tested</th>\n",
       "    </tr>\n",
       "  </thead>\n",
       "  <tbody>\n",
       "    <tr>\n",
       "      <th>0</th>\n",
       "      <td>New Explorations into Science, Technology and ...</td>\n",
       "      <td>Manhattan</td>\n",
       "      <td>M022</td>\n",
       "      <td>657</td>\n",
       "      <td>601</td>\n",
       "      <td>601</td>\n",
       "      <td>NaN</td>\n",
       "    </tr>\n",
       "    <tr>\n",
       "      <th>1</th>\n",
       "      <td>Essex Street Academy</td>\n",
       "      <td>Manhattan</td>\n",
       "      <td>M445</td>\n",
       "      <td>395</td>\n",
       "      <td>411</td>\n",
       "      <td>387</td>\n",
       "      <td>78.9</td>\n",
       "    </tr>\n",
       "    <tr>\n",
       "      <th>2</th>\n",
       "      <td>Lower Manhattan Arts Academy</td>\n",
       "      <td>Manhattan</td>\n",
       "      <td>M445</td>\n",
       "      <td>418</td>\n",
       "      <td>428</td>\n",
       "      <td>415</td>\n",
       "      <td>65.1</td>\n",
       "    </tr>\n",
       "    <tr>\n",
       "      <th>3</th>\n",
       "      <td>High School for Dual Language and Asian Studies</td>\n",
       "      <td>Manhattan</td>\n",
       "      <td>M445</td>\n",
       "      <td>613</td>\n",
       "      <td>453</td>\n",
       "      <td>463</td>\n",
       "      <td>95.9</td>\n",
       "    </tr>\n",
       "    <tr>\n",
       "      <th>4</th>\n",
       "      <td>Henry Street School for International Studies</td>\n",
       "      <td>Manhattan</td>\n",
       "      <td>M056</td>\n",
       "      <td>410</td>\n",
       "      <td>406</td>\n",
       "      <td>381</td>\n",
       "      <td>59.7</td>\n",
       "    </tr>\n",
       "  </tbody>\n",
       "</table>\n",
       "</div>"
      ],
      "text/plain": [
       "                                         school_name    borough building_code  \\\n",
       "0  New Explorations into Science, Technology and ...  Manhattan          M022   \n",
       "1                               Essex Street Academy  Manhattan          M445   \n",
       "2                       Lower Manhattan Arts Academy  Manhattan          M445   \n",
       "3    High School for Dual Language and Asian Studies  Manhattan          M445   \n",
       "4      Henry Street School for International Studies  Manhattan          M056   \n",
       "\n",
       "   average_math  average_reading  average_writing  percent_tested  \n",
       "0           657              601              601             NaN  \n",
       "1           395              411              387            78.9  \n",
       "2           418              428              415            65.1  \n",
       "3           613              453              463            95.9  \n",
       "4           410              406              381            59.7  "
      ]
     },
     "execution_count": 3,
     "metadata": {},
     "output_type": "execute_result"
    }
   ],
   "source": [
    "schools.head()"
   ]
  },
  {
   "cell_type": "code",
   "execution_count": 4,
   "id": "2b69b157",
   "metadata": {},
   "outputs": [],
   "source": [
    "# Find the best schools for math\n",
    "best_math_schools = schools[schools[\"average_math\"] >= 640][[\"school_name\", \"average_math\"]].sort_values(\"average_math\", ascending=False)"
   ]
  },
  {
   "cell_type": "code",
   "execution_count": 5,
   "id": "64915019",
   "metadata": {},
   "outputs": [],
   "source": [
    "# Calculate average_SAT per school\n",
    "schools[\"average_SAT\"] = schools[\"average_math\"] + schools[\"average_reading\"] + schools[\"average_writing\"]"
   ]
  },
  {
   "cell_type": "code",
   "execution_count": 6,
   "id": "885dec10",
   "metadata": {},
   "outputs": [],
   "source": [
    "# Top 10 performing schools\n",
    "top_10_schools = schools.sort_values(\"average_SAT\", ascending=False)[[\"school_name\", \"average_SAT\"]].head(10)\n"
   ]
  },
  {
   "cell_type": "code",
   "execution_count": 7,
   "id": "62326aab",
   "metadata": {},
   "outputs": [],
   "source": [
    "# Which borough has the highest standard deviation for average_SAT?\n",
    "boroughs = schools.groupby(\"borough\")[\"average_SAT\"].agg([\"count\", \"mean\", \"std\"]).round(0).sort_values(\"mean\", ascending=False)\n",
    "largest_std_dev = boroughs[boroughs[\"std\"] == boroughs[\"std\"].max()]\n"
   ]
  },
  {
   "cell_type": "code",
   "execution_count": 8,
   "id": "b10c9c5b",
   "metadata": {},
   "outputs": [],
   "source": [
    "# Share your results in this format\n",
    "schools_analysis = {\"best_math_schools\": best_math_schools,\n",
    "                    \"top_10_schools\": top_10_schools,\n",
    "                    \"largest_SAT_std_dev\": largest_std_dev}\n"
   ]
  },
  {
   "cell_type": "code",
   "execution_count": 9,
   "id": "0e1b189e",
   "metadata": {},
   "outputs": [
    {
     "name": "stdout",
     "output_type": "stream",
     "text": [
      "{'best_math_schools':                                            school_name  average_math\n",
      "88                              Stuyvesant High School           754\n",
      "170                       Bronx High School of Science           714\n",
      "93                 Staten Island Technical High School           711\n",
      "365  Queens High School for the Sciences at York Co...           701\n",
      "68   High School for Mathematics, Science, and Engi...           683\n",
      "280                     Brooklyn Technical High School           682\n",
      "333                        Townsend Harris High School           680\n",
      "174  High School of American Studies at Lehman College           669\n",
      "0    New Explorations into Science, Technology and ...           657\n",
      "45                       Eleanor Roosevelt High School           641, 'top_10_schools':                                            school_name  average_SAT\n",
      "88                              Stuyvesant High School         2144\n",
      "170                       Bronx High School of Science         2041\n",
      "93                 Staten Island Technical High School         2041\n",
      "174  High School of American Studies at Lehman College         2013\n",
      "333                        Townsend Harris High School         1981\n",
      "365  Queens High School for the Sciences at York Co...         1947\n",
      "5                       Bard High School Early College         1914\n",
      "280                     Brooklyn Technical High School         1896\n",
      "45                       Eleanor Roosevelt High School         1889\n",
      "68   High School for Mathematics, Science, and Engi...         1889, 'largest_SAT_std_dev':            count    mean    std\n",
      "borough                        \n",
      "Manhattan     89  1340.0  230.0}\n"
     ]
    }
   ],
   "source": [
    "# Call the answer!\n",
    "print(schools_analysis)"
   ]
  },
  {
   "cell_type": "code",
   "execution_count": null,
   "id": "bea0c8b5",
   "metadata": {},
   "outputs": [],
   "source": []
  }
 ],
 "metadata": {
  "kernelspec": {
   "display_name": "Python 3 (ipykernel)",
   "language": "python",
   "name": "python3"
  },
  "language_info": {
   "codemirror_mode": {
    "name": "ipython",
    "version": 3
   },
   "file_extension": ".py",
   "mimetype": "text/x-python",
   "name": "python",
   "nbconvert_exporter": "python",
   "pygments_lexer": "ipython3",
   "version": "3.11.2"
  }
 },
 "nbformat": 4,
 "nbformat_minor": 5
}
